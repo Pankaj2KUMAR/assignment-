{
 "cells": [
  {
   "cell_type": "code",
   "execution_count": null,
   "id": "f5f25560-8672-4915-b9bf-1ca68f045dd5",
   "metadata": {},
   "outputs": [],
   "source": [
    "ANS 1:"
   ]
  },
  {
   "cell_type": "code",
   "execution_count": 1,
   "id": "141a0df9-c05d-4147-8c72-b1eb016b145f",
   "metadata": {},
   "outputs": [
    {
     "name": "stdout",
     "output_type": "stream",
     "text": [
      "0     4\n",
      "1     8\n",
      "2    15\n",
      "3    16\n",
      "4    23\n",
      "5    42\n",
      "dtype: int64\n"
     ]
    }
   ],
   "source": [
    "import pandas as pd\n",
    "\n",
    "data=[4,8,15,16,23,42]\n",
    "series=pd.Series(data)\n",
    "print(series)"
   ]
  },
  {
   "cell_type": "code",
   "execution_count": null,
   "id": "5bf01ada-49cb-4458-8c0f-0f3e45a74c6d",
   "metadata": {},
   "outputs": [],
   "source": [
    "ANS 2:"
   ]
  },
  {
   "cell_type": "code",
   "execution_count": 3,
   "id": "97e6760a-26d7-40e0-b49e-5d6b960f129d",
   "metadata": {},
   "outputs": [
    {
     "name": "stdout",
     "output_type": "stream",
     "text": [
      "0     1\n",
      "1     2\n",
      "2     3\n",
      "3     4\n",
      "4     5\n",
      "5     6\n",
      "6     7\n",
      "7     8\n",
      "8     9\n",
      "9    10\n",
      "dtype: int64\n"
     ]
    }
   ],
   "source": [
    "import pandas as pd\n",
    "\n",
    "list=[1,2,3,4,5,6,7,8,9,10]\n",
    "series=pd.Series(list)\n",
    "print(series)"
   ]
  },
  {
   "cell_type": "code",
   "execution_count": null,
   "id": "cbd18fa2-3525-438f-aa83-c5e402d45317",
   "metadata": {},
   "outputs": [],
   "source": [
    "ANS 3:"
   ]
  },
  {
   "cell_type": "code",
   "execution_count": 5,
   "id": "31b4868a-d87e-4307-81bd-e3b36ed29d78",
   "metadata": {},
   "outputs": [
    {
     "name": "stdout",
     "output_type": "stream",
     "text": [
      "     Name  Age  Gender\n",
      "0   Alice   25  Female\n",
      "1     Bob   30    Male\n",
      "2  Claire   27  Female\n"
     ]
    }
   ],
   "source": [
    "import pandas as pd\n",
    "\n",
    "data={\"Name\":[\"Alice\" , \"Bob\", \"Claire\"],\n",
    "     \"Age\":[25,30,27],\n",
    "     \"Gender\":[\"Female\", \"Male\", \"Female\"]}\n",
    "df=pd.DataFrame(data)\n",
    "print(df)"
   ]
  },
  {
   "cell_type": "code",
   "execution_count": null,
   "id": "9bd8eb8d-53f2-48b6-8ce8-a51354ebe4fc",
   "metadata": {},
   "outputs": [],
   "source": [
    "ANS 4:"
   ]
  },
  {
   "cell_type": "code",
   "execution_count": null,
   "id": "17527c6d-f4fb-4724-8434-90086520240e",
   "metadata": {},
   "outputs": [],
   "source": [
    "In pandas, a DataFrame is a two-dimensional labeled data structure that consists of columns and rows. \n",
    "It can be thought of as a table or a spreadsheet, where each column represents a variable or feature,\n",
    "and each row represents an observation or data point. DataFrames provide a convenient way to organize\n",
    "and manipulate data in a tabular format.\n",
    "\n",
    "On the other hand, a pandas Series is a one-dimensional labeled array that can hold any data type.\n",
    "It is similar to a column in a DataFrame but does not have the concept of multiple columns or rows. \n",
    "A Series represents a single column of data with an associated index."
   ]
  },
  {
   "cell_type": "code",
   "execution_count": null,
   "id": "0219ef23-b564-4120-b564-687d063d07f4",
   "metadata": {},
   "outputs": [],
   "source": [
    "ANS 5:"
   ]
  },
  {
   "cell_type": "code",
   "execution_count": null,
   "id": "985354b4-080e-416b-b2a9-bc7e279e0acc",
   "metadata": {},
   "outputs": [],
   "source": [
    "Pandas provides a wide range of functions to manipulate data in a DataFrame. Here are some commonly used functions:\n",
    "\n",
    "1) head() and tail(): These functions allow you to view the first few rows (head()) or the last few rows (tail()) of the DataFrame. They are useful for quickly inspecting the data.\n",
    "\n",
    "2) info(): This function provides a summary of the DataFrame, including the column names, data types, and the number of non-null values in each column. It helps in understanding the structure of the DataFrame and identifying missing values.\n",
    "\n",
    "3) describe(): This function generates descriptive statistics of the numerical columns in the DataFrame, such as count, mean, standard deviation, minimum value, and quartiles. It gives a quick overview of the distribution and central tendencies of the data.\n",
    "\n",
    "4)shape: This attribute returns a tuple representing the dimensions of the DataFrame (number of rows, number of columns). It is useful for checking the size of the DataFrame.\n",
    "\n",
    "5)loc[] and iloc[]: These indexing operators allow for selection and slicing of rows and columns in the DataFrame. loc[] is used for label-based indexing, while iloc[] is used for integer-based indexing.\n",
    "\n",
    "EXAMPLE:\n",
    "    \n",
    "    # View the first few rows of the DataFrame\n",
    "print(df.head())\n",
    "\n",
    "# Calculate descriptive statistics of numerical columns\n",
    "print(df.describe())"
   ]
  },
  {
   "cell_type": "code",
   "execution_count": null,
   "id": "f79f915e-12e2-495e-b924-45f723db9935",
   "metadata": {},
   "outputs": [],
   "source": [
    "ANS 6:"
   ]
  },
  {
   "cell_type": "code",
   "execution_count": null,
   "id": "95338a07-6111-493b-8ec5-3926ac574bf8",
   "metadata": {},
   "outputs": [],
   "source": [
    "Series: A pandas Series is mutable because you can modify its elements by assigning new values to specific indices or slices.\n",
    "\n",
    "DataFrame: A pandas DataFrame is mutable because you can modify its columns or individual cells by assigning new values, adding or removing columns, or updating existing data.\n",
    "\n",
    " though Series and DataFrame are mutable"
   ]
  },
  {
   "cell_type": "code",
   "execution_count": null,
   "id": "b6db5dae-ba35-4aee-b85a-3a69c0f3c494",
   "metadata": {},
   "outputs": [],
   "source": [
    "ANS 7:"
   ]
  },
  {
   "cell_type": "code",
   "execution_count": 6,
   "id": "a9a9c1a1-9fe3-4c88-8b03-66211c095768",
   "metadata": {},
   "outputs": [
    {
     "name": "stdout",
     "output_type": "stream",
     "text": [
      "      Name  Age      City\n",
      "0     John   25  New York\n",
      "1     Emma   28    London\n",
      "2  Michael   30     Paris\n"
     ]
    }
   ],
   "source": [
    "import pandas as pd\n",
    "\n",
    "name_series = pd.Series(['John', 'Emma', 'Michael'])\n",
    "age_series = pd.Series([25, 28, 30])\n",
    "city_series = pd.Series(['New York', 'London', 'Paris'])\n",
    "\n",
    "data = {\n",
    "    'Name': name_series,\n",
    "    'Age': age_series,\n",
    "    'City': city_series\n",
    "}\n",
    "\n",
    "df = pd.DataFrame(data)\n",
    "\n",
    "print(df)"
   ]
  },
  {
   "cell_type": "code",
   "execution_count": null,
   "id": "f3e1651e-738a-4bb9-b873-dabd98ad35b1",
   "metadata": {},
   "outputs": [],
   "source": []
  },
  {
   "cell_type": "code",
   "execution_count": null,
   "id": "32fe8f68-aa06-4f1f-adf4-27e1df719ea4",
   "metadata": {},
   "outputs": [],
   "source": []
  }
 ],
 "metadata": {
  "kernelspec": {
   "display_name": "Python 3 (ipykernel)",
   "language": "python",
   "name": "python3"
  },
  "language_info": {
   "codemirror_mode": {
    "name": "ipython",
    "version": 3
   },
   "file_extension": ".py",
   "mimetype": "text/x-python",
   "name": "python",
   "nbconvert_exporter": "python",
   "pygments_lexer": "ipython3",
   "version": "3.10.8"
  }
 },
 "nbformat": 4,
 "nbformat_minor": 5
}

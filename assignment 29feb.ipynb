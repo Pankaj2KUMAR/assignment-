{
 "cells": [
  {
   "cell_type": "code",
   "execution_count": null,
   "id": "3ad0e664-9182-42ff-9044-d9a7be8ff5ed",
   "metadata": {},
   "outputs": [],
   "source": [
    "ANS 1:"
   ]
  },
  {
   "cell_type": "code",
   "execution_count": null,
   "id": "f86aa996-0167-4a08-a6fc-a0214d57c6a5",
   "metadata": {},
   "outputs": [],
   "source": [
    "Python programming language developed by the \"Guido Van Rossum\"."
   ]
  },
  {
   "cell_type": "code",
   "execution_count": null,
   "id": "70831455-71e6-4465-8c83-9fc137d78ec4",
   "metadata": {},
   "outputs": [],
   "source": [
    "ANS 2:"
   ]
  },
  {
   "cell_type": "code",
   "execution_count": null,
   "id": "eebf61dd-fc61-4dfe-afeb-2f825a821eb6",
   "metadata": {},
   "outputs": [],
   "source": [
    "Object oriented programming language."
   ]
  },
  {
   "cell_type": "code",
   "execution_count": null,
   "id": "f9ef4429-5168-47f0-8771-467bf073a759",
   "metadata": {},
   "outputs": [],
   "source": [
    "ANS 3 :"
   ]
  },
  {
   "cell_type": "code",
   "execution_count": null,
   "id": "6e0318b0-25b7-4603-8360-893096efc886",
   "metadata": {},
   "outputs": [],
   "source": [
    "Yes, Python is a case senitive language."
   ]
  },
  {
   "cell_type": "code",
   "execution_count": null,
   "id": "0fe4e492-6aa7-4b54-a90b-0a52b5b6c813",
   "metadata": {},
   "outputs": [],
   "source": [
    "ANS 4:"
   ]
  },
  {
   "cell_type": "code",
   "execution_count": null,
   "id": "ef508364-40ef-4315-a45f-ac80186c18e1",
   "metadata": {},
   "outputs": [],
   "source": [
    ".py"
   ]
  },
  {
   "cell_type": "code",
   "execution_count": null,
   "id": "32e7a05b-1868-469f-98c3-32a362e0a547",
   "metadata": {},
   "outputs": [],
   "source": [
    "ANS 5:"
   ]
  },
  {
   "cell_type": "code",
   "execution_count": null,
   "id": "15ea3bc6-ff3e-455e-818d-c2345b2436d3",
   "metadata": {},
   "outputs": [],
   "source": [
    "Python code is \"interpreted\"."
   ]
  },
  {
   "cell_type": "code",
   "execution_count": null,
   "id": "c143e0f7-776c-4ff5-9fe3-c13fd1b053fd",
   "metadata": {},
   "outputs": [],
   "source": [
    "ANS 6:"
   ]
  },
  {
   "cell_type": "code",
   "execution_count": null,
   "id": "e34c19c9-6d4c-4594-acec-2ea1f4590854",
   "metadata": {},
   "outputs": [],
   "source": [
    "a module, a function body, and a class definition."
   ]
  },
  {
   "cell_type": "code",
   "execution_count": null,
   "id": "62e7b29d-2094-4fbd-85b7-26ccdecbce74",
   "metadata": {},
   "outputs": [],
   "source": [
    "ANS 7:"
   ]
  },
  {
   "cell_type": "code",
   "execution_count": null,
   "id": "8fe9edc8-7672-4199-8842-9b23b258b306",
   "metadata": {},
   "outputs": [],
   "source": [
    "hash symbol, #"
   ]
  },
  {
   "cell_type": "code",
   "execution_count": null,
   "id": "5579241a-1392-40c7-87eb-7833a0744d60",
   "metadata": {},
   "outputs": [],
   "source": [
    "ANS 8:"
   ]
  },
  {
   "cell_type": "code",
   "execution_count": null,
   "id": "787d1ffe-3591-4c01-a01b-5f000b2a8e99",
   "metadata": {},
   "outputs": [],
   "source": [
    "sys.version"
   ]
  },
  {
   "cell_type": "code",
   "execution_count": null,
   "id": "53f0db1a-e0b2-48a7-bc58-848511bc8174",
   "metadata": {},
   "outputs": [],
   "source": [
    "ANS 9:"
   ]
  },
  {
   "cell_type": "code",
   "execution_count": null,
   "id": "d6926f71-eadf-41ad-8050-0720a291ea3f",
   "metadata": {},
   "outputs": [],
   "source": [
    "lambda"
   ]
  },
  {
   "cell_type": "code",
   "execution_count": null,
   "id": "f932a697-e784-471c-a654-c187fdd8a5db",
   "metadata": {},
   "outputs": [],
   "source": [
    "ANS 10:"
   ]
  },
  {
   "cell_type": "code",
   "execution_count": null,
   "id": "696afb95-688e-41c0-906c-82e4c41827f7",
   "metadata": {},
   "outputs": [],
   "source": [
    "pip install pakages"
   ]
  },
  {
   "cell_type": "code",
   "execution_count": null,
   "id": "042165ad-16b4-473f-bf17-69fd9898de31",
   "metadata": {},
   "outputs": [],
   "source": [
    "ANS 11:"
   ]
  },
  {
   "cell_type": "code",
   "execution_count": null,
   "id": "10236024-5c41-4554-884f-5c45bda29e17",
   "metadata": {},
   "outputs": [],
   "source": [
    "tuple()\n",
    "str()\n",
    "dict()"
   ]
  },
  {
   "cell_type": "code",
   "execution_count": null,
   "id": "01cd4244-0604-4fb7-bf1c-f432e490f59d",
   "metadata": {},
   "outputs": [],
   "source": [
    "ANS 12:"
   ]
  },
  {
   "cell_type": "code",
   "execution_count": null,
   "id": "2a4c2659-c508-4126-ad99-d380c07056f2",
   "metadata": {},
   "outputs": [],
   "source": [
    "79 characters"
   ]
  },
  {
   "cell_type": "code",
   "execution_count": null,
   "id": "60b98b02-1f5b-46ec-9a27-1656ae8520e6",
   "metadata": {},
   "outputs": [],
   "source": [
    "ANS 13:"
   ]
  },
  {
   "cell_type": "code",
   "execution_count": null,
   "id": "a519ff22-1f4f-4b45-8ba5-cd5007613f12",
   "metadata": {},
   "outputs": [],
   "source": [
    "1) used in many industries.\n",
    "2) flexibility\n",
    "3) ease of comprehension \n",
    "4) earning potential"
   ]
  },
  {
   "cell_type": "code",
   "execution_count": null,
   "id": "8b41fef9-b6b0-4d9e-ade8-769faf636263",
   "metadata": {},
   "outputs": [],
   "source": [
    "ANS 14:"
   ]
  },
  {
   "cell_type": "code",
   "execution_count": null,
   "id": "6db92afb-f672-4edc-9863-87f4abc45fb6",
   "metadata": {},
   "outputs": [],
   "source": [
    "Memory managed in python by \"involves the management of private heap\"."
   ]
  },
  {
   "cell_type": "code",
   "execution_count": null,
   "id": "f6dcf657-efd3-442e-a592-1fedff6eb1ea",
   "metadata": {},
   "outputs": [],
   "source": [
    "ANS 15:"
   ]
  },
  {
   "cell_type": "code",
   "execution_count": null,
   "id": "12654916-6084-4dd1-b4ce-33b90c6e20e5",
   "metadata": {},
   "outputs": [],
   "source": [
    "1. Right clicking THIS PC and going to properties.\n",
    "2. clicking on the ADVANCED SYSTEM SETTINGS in the menu on the left.\n",
    "3. Clicking on the ENVIRONMENT VARIABLE button on the bottom line.\n",
    "4. In the system VARIABLE section, selecting the PATH VARIABLE and clicking on EDIT. The next screen will show all directories of currently part of PATH variable.\n",
    "5. Clicking on NEW and entering Python"
   ]
  }
 ],
 "metadata": {
  "kernelspec": {
   "display_name": "Python 3 (ipykernel)",
   "language": "python",
   "name": "python3"
  },
  "language_info": {
   "codemirror_mode": {
    "name": "ipython",
    "version": 3
   },
   "file_extension": ".py",
   "mimetype": "text/x-python",
   "name": "python",
   "nbconvert_exporter": "python",
   "pygments_lexer": "ipython3",
   "version": "3.10.8"
  }
 },
 "nbformat": 4,
 "nbformat_minor": 5
}
